{
  "nbformat": 4,
  "nbformat_minor": 0,
  "metadata": {
    "colab": {
      "name": "Simple UNET architecture implementation",
      "provenance": [],
      "authorship_tag": "ABX9TyP2kPiTOM8FIYJ0+tlrB0CM",
      "include_colab_link": true
    },
    "kernelspec": {
      "name": "python3",
      "display_name": "Python 3"
    },
    "language_info": {
      "name": "python"
    },
    "accelerator": "GPU",
    "gpuClass": "standard"
  },
  "cells": [
    {
      "cell_type": "markdown",
      "metadata": {
        "id": "view-in-github",
        "colab_type": "text"
      },
      "source": [
        "<a href=\"https://colab.research.google.com/github/xoro-o/UNET_architecture/blob/main/Simple_UNET_architecture_implementation.ipynb\" target=\"_parent\"><img src=\"https://colab.research.google.com/assets/colab-badge.svg\" alt=\"Open In Colab\"/></a>"
      ]
    },
    {
      "cell_type": "code",
      "execution_count": 2,
      "metadata": {
        "id": "yPkmV2TViCaN"
      },
      "outputs": [],
      "source": [
        "import torch\n",
        "import torch.nn as nn"
      ]
    },
    {
      "cell_type": "code",
      "source": [
        "def doubleConv(in_c,out_c):\n",
        "  conv = nn.Sequential(nn.Conv2d(in_c,out_c,3),\n",
        "                       nn.ReLU(inplace=True),\n",
        "                       nn.Conv2d(out_c,out_c,3),\n",
        "                       nn.ReLU(inplace=True)\n",
        "                       )\n",
        "  return conv\n",
        "\n",
        "\n",
        "\n",
        "## here crop_img is not a good resolve as division operation can throw us in some loopholes\n",
        "## so there we 2 crop_img created as per the size and output changed because of the div operation\n",
        "def crop_img(tensor,target_tensor):\n",
        "  target_size = target_tensor.size()[2] # t_s = 100\n",
        "  tensor_size = tensor.size()[2]        # t_s = 135\n",
        "  delta = tensor_size-target_size   \n",
        "  # print(\"delta was : \",delta)           # delta = 35\n",
        "  delta = delta//2                      # delta was 17\n",
        "  # print(\"delta became :\",delta)          \n",
        "  return tensor[:,:,delta:tensor_size-delta-1,delta:tensor_size-delta-1]\n",
        "\n",
        "def crop_img2(tensor,target_tensor):\n",
        "  target_size = target_tensor.size()[2] # t_s = 100\n",
        "  tensor_size = tensor.size()[2]        # t_s = 135\n",
        "  delta = tensor_size-target_size   \n",
        "  # print(\"delta was : \",delta)           # delta = 35\n",
        "  delta = delta//2                      # delta was 17\n",
        "  # print(\"delta became :\",delta)          \n",
        "  return tensor[:,:,delta:tensor_size-delta,delta:tensor_size-delta]  "
      ],
      "metadata": {
        "id": "89a15we6iKuS"
      },
      "execution_count": 34,
      "outputs": []
    },
    {
      "cell_type": "code",
      "source": [
        "class UNET(nn.Module):\n",
        "  def __init__(self):\n",
        "    super(UNET,self).__init__()\n",
        "    self.maxPool = nn.MaxPool2d(3,2)\n",
        "\n",
        "    self.down_conv_1 = doubleConv(1,64)\n",
        "    self.down_conv_2 = doubleConv(64,128)\n",
        "    self.down_conv_3 = doubleConv(128,256)\n",
        "    self.down_conv_4 = doubleConv(256,512)\n",
        "    self.down_conv_5 = doubleConv(512,1024)\n",
        "\n",
        "    self.trans_up_1 = nn.ConvTranspose2d(1024,512,2,2)\n",
        "    self.up_conv_1 = doubleConv(1024,512)\n",
        "\n",
        "    self.trans_up_2 = nn.ConvTranspose2d(512,256,2,2)\n",
        "    self.up_conv_2 = doubleConv(512,256)\n",
        "\n",
        "    self.trans_up_3 = nn.ConvTranspose2d(256,128,2,2)\n",
        "    self.up_conv_3 = doubleConv(256,128)\n",
        "\n",
        "    self.trans_up_4 = nn.ConvTranspose2d(128,64,2,2)\n",
        "    self.up_conv_4 = doubleConv(128,64)\n",
        "\n",
        "    self.out = nn.Conv2d(64,2,1)\n",
        "\n",
        "\n",
        "\n",
        "  def forward(self,image):\n",
        "    # ENCODER DONE\n",
        "    x1 = self.down_conv_1(image)\n",
        "    x2 = self.maxPool(x1)\n",
        "    x3 = self.down_conv_2(x2)\n",
        "    x4 = self.maxPool(x3)\n",
        "    x5 = self.down_conv_3(x4)\n",
        "    x6 = self.maxPool(x5)\n",
        "    x7 = self.down_conv_4(x6)\n",
        "    x8 = self.maxPool(x7)\n",
        "    x9 = self.down_conv_5(x8)\n",
        "    # print(x9.size())\n",
        "\n",
        "    #DECODER\n",
        "    x = self.trans_up_1(x9)\n",
        "    # print(x.size())\n",
        "    y = crop_img(x7,x)\n",
        "    # print(y.size())\n",
        "    # print(torch.cat([x,y],1).size())\n",
        "    x = self.up_conv_1(torch.cat([x,y],1))\n",
        "    # print(x.size())\n",
        "    x = self.trans_up_2(x)\n",
        "    # print(x.size())\n",
        "    # print(x5.size())\n",
        "    y = crop_img(x5,x)\n",
        "    # print(y.size())\n",
        "    x = self.up_conv_2(torch.cat([x,y],1))\n",
        "    print(x.size())\n",
        "    x = self.trans_up_3(x)\n",
        "    y = crop_img(x3,x)\n",
        "    x = self.up_conv_3(torch.cat([x,y],1))\n",
        "\n",
        "    x = self.trans_up_4(x)\n",
        "    y = crop_img2(x1,x)\n",
        "    x = self.up_conv_4(torch.cat([x,y],1))\n",
        "\n",
        "    x = self.out(x)\n",
        "\n",
        "    print(x.size())\n",
        "    return x\n",
        "\n",
        "\n",
        "    \n",
        "\n",
        "\n"
      ],
      "metadata": {
        "id": "7lMW29-njXZ5"
      },
      "execution_count": 30,
      "outputs": []
    },
    {
      "cell_type": "code",
      "source": [
        "\n",
        "image = torch.rand((1,1,572,572))\n",
        "model = UNET()\n",
        "print(model(image))"
      ],
      "metadata": {
        "colab": {
          "base_uri": "https://localhost:8080/",
          "height": 360
        },
        "id": "BHMGT0aUmmJq",
        "outputId": "e82a4999-37f5-47a0-c98a-5d5a43663158"
      },
      "execution_count": 36,
      "outputs": [
        {
          "output_type": "error",
          "ename": "RuntimeError",
          "evalue": "ignored",
          "traceback": [
            "\u001b[0;31m---------------------------------------------------------------------------\u001b[0m",
            "\u001b[0;31mRuntimeError\u001b[0m                              Traceback (most recent call last)",
            "\u001b[0;32m<ipython-input-36-1509a9857ebb>\u001b[0m in \u001b[0;36m<module>\u001b[0;34m()\u001b[0m\n\u001b[1;32m      2\u001b[0m \u001b[0mimage\u001b[0m \u001b[0;34m=\u001b[0m \u001b[0mtorch\u001b[0m\u001b[0;34m.\u001b[0m\u001b[0mrand\u001b[0m\u001b[0;34m(\u001b[0m\u001b[0;34m(\u001b[0m\u001b[0;36m1\u001b[0m\u001b[0;34m,\u001b[0m\u001b[0;36m1\u001b[0m\u001b[0;34m,\u001b[0m\u001b[0;36m572\u001b[0m\u001b[0;34m,\u001b[0m\u001b[0;36m572\u001b[0m\u001b[0;34m)\u001b[0m\u001b[0;34m)\u001b[0m\u001b[0;34m\u001b[0m\u001b[0;34m\u001b[0m\u001b[0m\n\u001b[1;32m      3\u001b[0m \u001b[0mmodel\u001b[0m \u001b[0;34m=\u001b[0m \u001b[0mUNET\u001b[0m\u001b[0;34m(\u001b[0m\u001b[0;34m)\u001b[0m\u001b[0;34m\u001b[0m\u001b[0;34m\u001b[0m\u001b[0m\n\u001b[0;32m----> 4\u001b[0;31m \u001b[0mprint\u001b[0m\u001b[0;34m(\u001b[0m\u001b[0mmodel\u001b[0m\u001b[0;34m(\u001b[0m\u001b[0mimage\u001b[0m\u001b[0;34m)\u001b[0m\u001b[0;34m)\u001b[0m\u001b[0;34m\u001b[0m\u001b[0;34m\u001b[0m\u001b[0m\n\u001b[0m",
            "\u001b[0;32m/usr/local/lib/python3.7/dist-packages/torch/nn/modules/module.py\u001b[0m in \u001b[0;36m_call_impl\u001b[0;34m(self, *input, **kwargs)\u001b[0m\n\u001b[1;32m   1108\u001b[0m         if not (self._backward_hooks or self._forward_hooks or self._forward_pre_hooks or _global_backward_hooks\n\u001b[1;32m   1109\u001b[0m                 or _global_forward_hooks or _global_forward_pre_hooks):\n\u001b[0;32m-> 1110\u001b[0;31m             \u001b[0;32mreturn\u001b[0m \u001b[0mforward_call\u001b[0m\u001b[0;34m(\u001b[0m\u001b[0;34m*\u001b[0m\u001b[0minput\u001b[0m\u001b[0;34m,\u001b[0m \u001b[0;34m**\u001b[0m\u001b[0mkwargs\u001b[0m\u001b[0;34m)\u001b[0m\u001b[0;34m\u001b[0m\u001b[0;34m\u001b[0m\u001b[0m\n\u001b[0m\u001b[1;32m   1111\u001b[0m         \u001b[0;31m# Do not call functions when jit is used\u001b[0m\u001b[0;34m\u001b[0m\u001b[0;34m\u001b[0m\u001b[0;34m\u001b[0m\u001b[0m\n\u001b[1;32m   1112\u001b[0m         \u001b[0mfull_backward_hooks\u001b[0m\u001b[0;34m,\u001b[0m \u001b[0mnon_full_backward_hooks\u001b[0m \u001b[0;34m=\u001b[0m \u001b[0;34m[\u001b[0m\u001b[0;34m]\u001b[0m\u001b[0;34m,\u001b[0m \u001b[0;34m[\u001b[0m\u001b[0;34m]\u001b[0m\u001b[0;34m\u001b[0m\u001b[0;34m\u001b[0m\u001b[0m\n",
            "\u001b[0;32m<ipython-input-30-d8ad13942bef>\u001b[0m in \u001b[0;36mforward\u001b[0;34m(self, image)\u001b[0m\n\u001b[1;32m     45\u001b[0m     \u001b[0;31m# print(y.size())\u001b[0m\u001b[0;34m\u001b[0m\u001b[0;34m\u001b[0m\u001b[0;34m\u001b[0m\u001b[0m\n\u001b[1;32m     46\u001b[0m     \u001b[0;31m# print(torch.cat([x,y],1).size())\u001b[0m\u001b[0;34m\u001b[0m\u001b[0;34m\u001b[0m\u001b[0;34m\u001b[0m\u001b[0m\n\u001b[0;32m---> 47\u001b[0;31m     \u001b[0mx\u001b[0m \u001b[0;34m=\u001b[0m \u001b[0mself\u001b[0m\u001b[0;34m.\u001b[0m\u001b[0mup_conv_1\u001b[0m\u001b[0;34m(\u001b[0m\u001b[0mtorch\u001b[0m\u001b[0;34m.\u001b[0m\u001b[0mcat\u001b[0m\u001b[0;34m(\u001b[0m\u001b[0;34m[\u001b[0m\u001b[0mx\u001b[0m\u001b[0;34m,\u001b[0m\u001b[0my\u001b[0m\u001b[0;34m]\u001b[0m\u001b[0;34m,\u001b[0m\u001b[0;36m1\u001b[0m\u001b[0;34m)\u001b[0m\u001b[0;34m)\u001b[0m\u001b[0;34m\u001b[0m\u001b[0;34m\u001b[0m\u001b[0m\n\u001b[0m\u001b[1;32m     48\u001b[0m     \u001b[0;31m# print(x.size())\u001b[0m\u001b[0;34m\u001b[0m\u001b[0;34m\u001b[0m\u001b[0;34m\u001b[0m\u001b[0m\n\u001b[1;32m     49\u001b[0m     \u001b[0mx\u001b[0m \u001b[0;34m=\u001b[0m \u001b[0mself\u001b[0m\u001b[0;34m.\u001b[0m\u001b[0mtrans_up_2\u001b[0m\u001b[0;34m(\u001b[0m\u001b[0mx\u001b[0m\u001b[0;34m)\u001b[0m\u001b[0;34m\u001b[0m\u001b[0;34m\u001b[0m\u001b[0m\n",
            "\u001b[0;31mRuntimeError\u001b[0m: Sizes of tensors must match except in dimension 1. Expected size 54 but got size 55 for tensor number 1 in the list."
          ]
        }
      ]
    },
    {
      "cell_type": "code",
      "source": [
        " "
      ],
      "metadata": {
        "id": "534zmupAm3oM"
      },
      "execution_count": null,
      "outputs": []
    }
  ]
}