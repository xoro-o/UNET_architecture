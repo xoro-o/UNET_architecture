{
  "nbformat": 4,
  "nbformat_minor": 0,
  "metadata": {
    "colab": {
      "name": "Simple UNET architecture implementation",
      "provenance": [],
      "authorship_tag": "ABX9TyP2kPiTOM8FIYJ0+tlrB0CM",
      "include_colab_link": true
    },
    "kernelspec": {
      "name": "python3",
      "display_name": "Python 3"
    },
    "language_info": {
      "name": "python"
    },
    "accelerator": "GPU",
    "gpuClass": "standard"
  },
  "cells": [
    {
      "cell_type": "markdown",
      "metadata": {
        "id": "view-in-github",
        "colab_type": "text"
      },
      "source": [
        "<a href=\"https://colab.research.google.com/github/xoro-o/UNET_architecture/blob/main/Simple_UNET_architecture_implementation.ipynb\" target=\"_parent\"><img src=\"https://colab.research.google.com/assets/colab-badge.svg\" alt=\"Open In Colab\"/></a>"
      ]
    },
    {
      "cell_type": "code",
      "execution_count": 2,
      "metadata": {
        "id": "yPkmV2TViCaN"
      },
      "outputs": [],
      "source": [
        "import torch\n",
        "import torch.nn as nn"
      ]
    },
    {
      "cell_type": "code",
      "source": [
        "def doubleConv(in_c,out_c):\n",
        "  conv = nn.Sequential(nn.Conv2d(in_c,out_c,3),\n",
        "                       nn.ReLU(inplace=True),\n",
        "                       nn.Conv2d(out_c,out_c,3),\n",
        "                       nn.ReLU(inplace=True)\n",
        "                       )\n",
        "  return conv\n",
        "\n",
        "\n",
        "\n",
        "## here crop_img is not a good resolve as division operation can throw us in some loopholes\n",
        "## so there we 2 crop_img created as per the size and output changed because of the div operation\n",
        "def crop_img(tensor,target_tensor):\n",
        "  target_size = target_tensor.size()[2] # t_s = 100\n",
        "  tensor_size = tensor.size()[2]        # t_s = 135\n",
        "  delta = tensor_size-target_size   \n",
        "  # print(\"delta was : \",delta)           # delta = 35\n",
        "  delta = delta//2                      # delta was 17\n",
        "  # print(\"delta became :\",delta)          \n",
        "  return tensor[:,:,delta:tensor_size-delta-1,delta:tensor_size-delta-1]\n",
        "\n",
        "def crop_img2(tensor,target_tensor):\n",
        "  target_size = target_tensor.size()[2] # t_s = 100\n",
        "  tensor_size = tensor.size()[2]        # t_s = 135\n",
        "  delta = tensor_size-target_size   \n",
        "  # print(\"delta was : \",delta)           # delta = 35\n",
        "  delta = delta//2                      # delta was 17\n",
        "  # print(\"delta became :\",delta)          \n",
        "  return tensor[:,:,delta:tensor_size-delta,delta:tensor_size-delta]  "
      ],
      "metadata": {
        "id": "89a15we6iKuS"
      },
      "execution_count": 38,
      "outputs": []
    },
    {
      "cell_type": "code",
      "source": [
        "class UNET(nn.Module):\n",
        "  def __init__(self):\n",
        "    super(UNET,self).__init__()\n",
        "    self.maxPool = nn.MaxPool2d(3,2)\n",
        "\n",
        "    self.down_conv_1 = doubleConv(1,64)\n",
        "    self.down_conv_2 = doubleConv(64,128)\n",
        "    self.down_conv_3 = doubleConv(128,256)\n",
        "    self.down_conv_4 = doubleConv(256,512)\n",
        "    self.down_conv_5 = doubleConv(512,1024)\n",
        "\n",
        "    self.trans_up_1 = nn.ConvTranspose2d(1024,512,2,2)\n",
        "    self.up_conv_1 = doubleConv(1024,512)\n",
        "\n",
        "    self.trans_up_2 = nn.ConvTranspose2d(512,256,2,2)\n",
        "    self.up_conv_2 = doubleConv(512,256)\n",
        "\n",
        "    self.trans_up_3 = nn.ConvTranspose2d(256,128,2,2)\n",
        "    self.up_conv_3 = doubleConv(256,128)\n",
        "\n",
        "    self.trans_up_4 = nn.ConvTranspose2d(128,64,2,2)\n",
        "    self.up_conv_4 = doubleConv(128,64)\n",
        "\n",
        "    self.out = nn.Conv2d(64,2,1)\n",
        "\n",
        "\n",
        "\n",
        "  def forward(self,image):\n",
        "    # ENCODER DONE\n",
        "    x1 = self.down_conv_1(image)\n",
        "    x2 = self.maxPool(x1)\n",
        "    x3 = self.down_conv_2(x2)\n",
        "    x4 = self.maxPool(x3)\n",
        "    x5 = self.down_conv_3(x4)\n",
        "    x6 = self.maxPool(x5)\n",
        "    x7 = self.down_conv_4(x6)\n",
        "    x8 = self.maxPool(x7)\n",
        "    x9 = self.down_conv_5(x8)\n",
        "    # print(x9.size())\n",
        "\n",
        "    #DECODER\n",
        "    x = self.trans_up_1(x9)\n",
        "    # print(x.size())\n",
        "    y = crop_img(x7,x)\n",
        "    # print(y.size())\n",
        "    # print(torch.cat([x,y],1).size())\n",
        "    x = self.up_conv_1(torch.cat([x,y],1))\n",
        "    # print(x.size())\n",
        "    x = self.trans_up_2(x)\n",
        "    # print(x.size())\n",
        "    # print(x5.size())\n",
        "    y = crop_img(x5,x)\n",
        "    # print(y.size())\n",
        "    x = self.up_conv_2(torch.cat([x,y],1))\n",
        "    print(x.size())\n",
        "    x = self.trans_up_3(x)\n",
        "    y = crop_img(x3,x)\n",
        "    x = self.up_conv_3(torch.cat([x,y],1))\n",
        "\n",
        "    x = self.trans_up_4(x)\n",
        "    y = crop_img2(x1,x)\n",
        "    x = self.up_conv_4(torch.cat([x,y],1))\n",
        "\n",
        "    x = self.out(x)\n",
        "\n",
        "    print(x.size())\n",
        "    return x\n",
        "\n",
        "\n",
        "    \n",
        "\n",
        "\n"
      ],
      "metadata": {
        "id": "7lMW29-njXZ5"
      },
      "execution_count": 30,
      "outputs": []
    },
    {
      "cell_type": "code",
      "source": [
        "\n",
        "image = torch.rand((1,1,572,572))\n",
        "model = UNET()\n",
        "print(model(image))"
      ],
      "metadata": {
        "colab": {
          "base_uri": "https://localhost:8080/"
        },
        "id": "BHMGT0aUmmJq",
        "outputId": "62ece717-7903-4d6b-bd9a-7ab6aa043a32"
      },
      "execution_count": 39,
      "outputs": [
        {
          "output_type": "stream",
          "name": "stdout",
          "text": [
            "torch.Size([1, 256, 96, 96])\n",
            "torch.Size([1, 2, 372, 372])\n",
            "tensor([[[[-0.1085, -0.1091, -0.1092,  ..., -0.1019, -0.1070, -0.1014],\n",
            "          [-0.1083, -0.1056, -0.1078,  ..., -0.1084, -0.1023, -0.1064],\n",
            "          [-0.1069, -0.1048, -0.1101,  ..., -0.1073, -0.1054, -0.1038],\n",
            "          ...,\n",
            "          [-0.1090, -0.1076, -0.1112,  ..., -0.1084, -0.1039, -0.1094],\n",
            "          [-0.1068, -0.1072, -0.1089,  ..., -0.1065, -0.1091, -0.1018],\n",
            "          [-0.1118, -0.1089, -0.1102,  ..., -0.1069, -0.1102, -0.1056]],\n",
            "\n",
            "         [[-0.0934, -0.0921, -0.0957,  ..., -0.0992, -0.0978, -0.0960],\n",
            "          [-0.0930, -0.0991, -0.0980,  ..., -0.0982, -0.0990, -0.0950],\n",
            "          [-0.0993, -0.0968, -0.0952,  ..., -0.0921, -0.0943, -0.0972],\n",
            "          ...,\n",
            "          [-0.0935, -0.0993, -0.0956,  ..., -0.0978, -0.0972, -0.0975],\n",
            "          [-0.0965, -0.0960, -0.0939,  ..., -0.0973, -0.0941, -0.0936],\n",
            "          [-0.0951, -0.0936, -0.0962,  ..., -0.0943, -0.0950, -0.0972]]]],\n",
            "       grad_fn=<ConvolutionBackward0>)\n"
          ]
        }
      ]
    },
    {
      "cell_type": "code",
      "source": [
        " "
      ],
      "metadata": {
        "id": "534zmupAm3oM"
      },
      "execution_count": null,
      "outputs": []
    }
  ]
}